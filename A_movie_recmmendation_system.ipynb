{
  "cells": [
    {
      "cell_type": "markdown",
      "metadata": {
        "id": "view-in-github",
        "colab_type": "text"
      },
      "source": [
        "<a href=\"https://colab.research.google.com/github/eve-okorie16/testrep/blob/main/A_movie_recmmendation_system.ipynb\" target=\"_parent\"><img src=\"https://colab.research.google.com/assets/colab-badge.svg\" alt=\"Open In Colab\"/></a>"
      ]
    },
    {
      "cell_type": "markdown",
      "id": "d6c3ca2d",
      "metadata": {
        "id": "d6c3ca2d"
      },
      "source": [
        "# movie recommendation system with cosine similarity"
      ]
    },
    {
      "cell_type": "markdown",
      "id": "6aabe3f5",
      "metadata": {
        "id": "6aabe3f5"
      },
      "source": [
        "movies are recommended to users based on the type of movie(genre), the director of the movie, cast or even release year. i will build this system based on the genre and director"
      ]
    },
    {
      "cell_type": "code",
      "execution_count": null,
      "id": "76e23bdf",
      "metadata": {
        "id": "76e23bdf"
      },
      "outputs": [],
      "source": [
        "import pandas as pd\n",
        "import numpy as np\n"
      ]
    },
    {
      "cell_type": "code",
      "execution_count": null,
      "id": "b3f815c9",
      "metadata": {
        "id": "b3f815c9"
      },
      "outputs": [],
      "source": [
        "df = pd.read_csv(\"movie analysis.csv\")"
      ]
    },
    {
      "cell_type": "code",
      "execution_count": null,
      "id": "f69ad228",
      "metadata": {
        "id": "f69ad228",
        "outputId": "8580b2de-8341-44d0-b542-87b36cd8d239"
      },
      "outputs": [
        {
          "data": {
            "text/html": [
              "<div>\n",
              "<style scoped>\n",
              "    .dataframe tbody tr th:only-of-type {\n",
              "        vertical-align: middle;\n",
              "    }\n",
              "\n",
              "    .dataframe tbody tr th {\n",
              "        vertical-align: top;\n",
              "    }\n",
              "\n",
              "    .dataframe thead th {\n",
              "        text-align: right;\n",
              "    }\n",
              "</style>\n",
              "<table border=\"1\" class=\"dataframe\">\n",
              "  <thead>\n",
              "    <tr style=\"text-align: right;\">\n",
              "      <th></th>\n",
              "      <th>Unnamed: 0</th>\n",
              "      <th>Title</th>\n",
              "      <th>Release Date</th>\n",
              "      <th>Genre</th>\n",
              "      <th>Director</th>\n",
              "      <th>Budget</th>\n",
              "      <th>Revenue</th>\n",
              "      <th>Profit</th>\n",
              "      <th>Status</th>\n",
              "      <th>Release Year</th>\n",
              "    </tr>\n",
              "  </thead>\n",
              "  <tbody>\n",
              "    <tr>\n",
              "      <th>0</th>\n",
              "      <td>0</td>\n",
              "      <td>The Devil Inside</td>\n",
              "      <td>2012-01-06</td>\n",
              "      <td>Horror</td>\n",
              "      <td>William Brent Bell</td>\n",
              "      <td>1000000</td>\n",
              "      <td>101800000.0</td>\n",
              "      <td>100800000.0</td>\n",
              "      <td>gain</td>\n",
              "      <td>2012</td>\n",
              "    </tr>\n",
              "    <tr>\n",
              "      <th>1</th>\n",
              "      <td>1</td>\n",
              "      <td>Red Tails</td>\n",
              "      <td>2012-01-20</td>\n",
              "      <td>Drama</td>\n",
              "      <td>Anthony Hemingway</td>\n",
              "      <td>58000000</td>\n",
              "      <td>50400000.0</td>\n",
              "      <td>-7600000.0</td>\n",
              "      <td>loss</td>\n",
              "      <td>2012</td>\n",
              "    </tr>\n",
              "    <tr>\n",
              "      <th>2</th>\n",
              "      <td>2</td>\n",
              "      <td>Declaration of War</td>\n",
              "      <td>2012-01-27</td>\n",
              "      <td>Romance</td>\n",
              "      <td>Valérie Donzelli</td>\n",
              "      <td>1500000</td>\n",
              "      <td>6500000.0</td>\n",
              "      <td>5000000.0</td>\n",
              "      <td>gain</td>\n",
              "      <td>2012</td>\n",
              "    </tr>\n",
              "    <tr>\n",
              "      <th>3</th>\n",
              "      <td>3</td>\n",
              "      <td>Man on a Ledge</td>\n",
              "      <td>2012-01-27</td>\n",
              "      <td>Action</td>\n",
              "      <td>Asger Leth</td>\n",
              "      <td>42000000</td>\n",
              "      <td>46200000.0</td>\n",
              "      <td>4200000.0</td>\n",
              "      <td>gain</td>\n",
              "      <td>2012</td>\n",
              "    </tr>\n",
              "    <tr>\n",
              "      <th>4</th>\n",
              "      <td>4</td>\n",
              "      <td>One for the Money</td>\n",
              "      <td>2012-01-27</td>\n",
              "      <td>Crime</td>\n",
              "      <td>Julie Anne Robinson</td>\n",
              "      <td>40000000</td>\n",
              "      <td>36900000.0</td>\n",
              "      <td>-3100000.0</td>\n",
              "      <td>loss</td>\n",
              "      <td>2012</td>\n",
              "    </tr>\n",
              "    <tr>\n",
              "      <th>5</th>\n",
              "      <td>5</td>\n",
              "      <td>The Grey</td>\n",
              "      <td>2012-01-27</td>\n",
              "      <td>Action</td>\n",
              "      <td>Joe Carnahan</td>\n",
              "      <td>25000000</td>\n",
              "      <td>77300000.0</td>\n",
              "      <td>52300000.0</td>\n",
              "      <td>gain</td>\n",
              "      <td>2012</td>\n",
              "    </tr>\n",
              "    <tr>\n",
              "      <th>6</th>\n",
              "      <td>6</td>\n",
              "      <td>Chronicle</td>\n",
              "      <td>2012-02-03</td>\n",
              "      <td>Sci-Fi</td>\n",
              "      <td>Josh Trank</td>\n",
              "      <td>12000000</td>\n",
              "      <td>126600000.0</td>\n",
              "      <td>114600000.0</td>\n",
              "      <td>gain</td>\n",
              "      <td>2012</td>\n",
              "    </tr>\n",
              "    <tr>\n",
              "      <th>7</th>\n",
              "      <td>7</td>\n",
              "      <td>The Woman in Black</td>\n",
              "      <td>2012-02-03</td>\n",
              "      <td>Horror</td>\n",
              "      <td>James Watkins</td>\n",
              "      <td>15000000</td>\n",
              "      <td>128500000.0</td>\n",
              "      <td>113500000.0</td>\n",
              "      <td>gain</td>\n",
              "      <td>2012</td>\n",
              "    </tr>\n",
              "    <tr>\n",
              "      <th>8</th>\n",
              "      <td>8</td>\n",
              "      <td>Journey 2: The Mysterious Island</td>\n",
              "      <td>2012-02-10</td>\n",
              "      <td>Adventure</td>\n",
              "      <td>Brad Peyton</td>\n",
              "      <td>79000000</td>\n",
              "      <td>335300000.0</td>\n",
              "      <td>256300000.0</td>\n",
              "      <td>gain</td>\n",
              "      <td>2012</td>\n",
              "    </tr>\n",
              "    <tr>\n",
              "      <th>9</th>\n",
              "      <td>9</td>\n",
              "      <td>Safe House</td>\n",
              "      <td>2012-02-10</td>\n",
              "      <td>Action</td>\n",
              "      <td>Daniel Espinosa</td>\n",
              "      <td>85000000</td>\n",
              "      <td>208100000.0</td>\n",
              "      <td>123100000.0</td>\n",
              "      <td>gain</td>\n",
              "      <td>2012</td>\n",
              "    </tr>\n",
              "  </tbody>\n",
              "</table>\n",
              "</div>"
            ],
            "text/plain": [
              "   Unnamed: 0                             Title Release Date      Genre  \\\n",
              "0           0                  The Devil Inside   2012-01-06     Horror   \n",
              "1           1                         Red Tails   2012-01-20      Drama   \n",
              "2           2                Declaration of War   2012-01-27    Romance   \n",
              "3           3                    Man on a Ledge   2012-01-27     Action   \n",
              "4           4                 One for the Money   2012-01-27      Crime   \n",
              "5           5                          The Grey   2012-01-27     Action   \n",
              "6           6                         Chronicle   2012-02-03     Sci-Fi   \n",
              "7           7                The Woman in Black   2012-02-03     Horror   \n",
              "8           8  Journey 2: The Mysterious Island   2012-02-10  Adventure   \n",
              "9           9                        Safe House   2012-02-10     Action   \n",
              "\n",
              "              Director    Budget      Revenue       Profit Status  \\\n",
              "0   William Brent Bell   1000000  101800000.0  100800000.0   gain   \n",
              "1    Anthony Hemingway  58000000   50400000.0   -7600000.0   loss   \n",
              "2     Valérie Donzelli   1500000    6500000.0    5000000.0   gain   \n",
              "3           Asger Leth  42000000   46200000.0    4200000.0   gain   \n",
              "4  Julie Anne Robinson  40000000   36900000.0   -3100000.0   loss   \n",
              "5         Joe Carnahan  25000000   77300000.0   52300000.0   gain   \n",
              "6           Josh Trank  12000000  126600000.0  114600000.0   gain   \n",
              "7        James Watkins  15000000  128500000.0  113500000.0   gain   \n",
              "8          Brad Peyton  79000000  335300000.0  256300000.0   gain   \n",
              "9      Daniel Espinosa  85000000  208100000.0  123100000.0   gain   \n",
              "\n",
              "   Release Year  \n",
              "0          2012  \n",
              "1          2012  \n",
              "2          2012  \n",
              "3          2012  \n",
              "4          2012  \n",
              "5          2012  \n",
              "6          2012  \n",
              "7          2012  \n",
              "8          2012  \n",
              "9          2012  "
            ]
          },
          "execution_count": 12,
          "metadata": {},
          "output_type": "execute_result"
        }
      ],
      "source": [
        "df.head(10)"
      ]
    },
    {
      "cell_type": "code",
      "execution_count": null,
      "id": "446648c3",
      "metadata": {
        "id": "446648c3",
        "outputId": "37abeb28-dcb0-4427-f249-5c3953a8c47e"
      },
      "outputs": [
        {
          "data": {
            "text/plain": [
              "Index(['Unnamed: 0', 'Title', 'Release Date', 'Genre', 'Director', 'Budget',\n",
              "       'Revenue', 'Profit', 'Status', 'Release Year'],\n",
              "      dtype='object')"
            ]
          },
          "execution_count": 11,
          "metadata": {},
          "output_type": "execute_result"
        }
      ],
      "source": [
        "df.columns"
      ]
    },
    {
      "cell_type": "code",
      "execution_count": null,
      "id": "7af58037",
      "metadata": {
        "id": "7af58037",
        "outputId": "9be3221a-a5cc-4813-b48e-f3cc90eb1950"
      },
      "outputs": [
        {
          "data": {
            "text/plain": [
              "<bound method DataFrame.info of      Unnamed: 0                     Title Release Date      Genre  \\\n",
              "0             0          The Devil Inside   2012-01-06     Horror   \n",
              "1             1                 Red Tails   2012-01-20      Drama   \n",
              "2             2        Declaration of War   2012-01-27    Romance   \n",
              "3             3            Man on a Ledge   2012-01-27     Action   \n",
              "4             4         One for the Money   2012-01-27      Crime   \n",
              "..          ...                       ...          ...        ...   \n",
              "503         503  Kubo and the Two Strings   2016-08-19    Fantasy   \n",
              "504         504                  War Dogs   2016-08-19      Crime   \n",
              "505         505             Don't Breathe   2016-08-26   Thriller   \n",
              "506         506            Hands of Stone   2016-08-26  Biography   \n",
              "507         507    Mechanic: Resurrection   2016-08-26     Action   \n",
              "\n",
              "                Director    Budget      Revenue       Profit Status  \\\n",
              "0     William Brent Bell   1000000  101800000.0  100800000.0   gain   \n",
              "1      Anthony Hemingway  58000000   50400000.0   -7600000.0   loss   \n",
              "2       Valérie Donzelli   1500000    6500000.0    5000000.0   gain   \n",
              "3             Asger Leth  42000000   46200000.0    4200000.0   gain   \n",
              "4    Julie Anne Robinson  40000000   36900000.0   -3100000.0   loss   \n",
              "..                   ...       ...          ...          ...    ...   \n",
              "503        Travis Knight  60000000   27600000.0  -32400000.0   loss   \n",
              "504        Todd Phillips  40000000   42700000.0    2700000.0   gain   \n",
              "505         Fede Alvarez   9900000   28300000.0   18400000.0   gain   \n",
              "506  Jonathan Jakubowicz  20000000    1700000.0  -18300000.0   loss   \n",
              "507        Dennis Gansel  40000000    7500000.0  -32500000.0   loss   \n",
              "\n",
              "     Release Year  \n",
              "0            2012  \n",
              "1            2012  \n",
              "2            2012  \n",
              "3            2012  \n",
              "4            2012  \n",
              "..            ...  \n",
              "503          2016  \n",
              "504          2016  \n",
              "505          2016  \n",
              "506          2016  \n",
              "507          2016  \n",
              "\n",
              "[508 rows x 10 columns]>"
            ]
          },
          "execution_count": 5,
          "metadata": {},
          "output_type": "execute_result"
        }
      ],
      "source": [
        "df.info"
      ]
    },
    {
      "cell_type": "markdown",
      "id": "02445670",
      "metadata": {
        "id": "02445670"
      },
      "source": [
        "we can see the info is not giving much information required about the data types so we check the data types"
      ]
    },
    {
      "cell_type": "code",
      "execution_count": null,
      "id": "35da37e5",
      "metadata": {
        "id": "35da37e5",
        "outputId": "d951f6de-0a04-4475-beac-6877d1bea646"
      },
      "outputs": [
        {
          "data": {
            "text/plain": [
              "Unnamed: 0        int64\n",
              "Title            object\n",
              "Release Date     object\n",
              "Genre            object\n",
              "Director         object\n",
              "Budget            int64\n",
              "Revenue         float64\n",
              "Profit          float64\n",
              "Status           object\n",
              "Release Year      int64\n",
              "dtype: object"
            ]
          },
          "execution_count": 6,
          "metadata": {},
          "output_type": "execute_result"
        }
      ],
      "source": [
        "df.dtypes"
      ]
    },
    {
      "cell_type": "code",
      "execution_count": null,
      "id": "1c731534",
      "metadata": {
        "id": "1c731534",
        "outputId": "9b3747ba-a63d-427b-9b82-42be71cb5bbe"
      },
      "outputs": [
        {
          "data": {
            "text/plain": [
              "0"
            ]
          },
          "execution_count": 7,
          "metadata": {},
          "output_type": "execute_result"
        }
      ],
      "source": [
        "#total number of duplicates in my dataframe\n",
        "df.duplicated().sum()"
      ]
    },
    {
      "cell_type": "markdown",
      "id": "e10fed32",
      "metadata": {
        "id": "e10fed32"
      },
      "source": [
        "dataframe has no duplicates so we move to drop the column unnmaed"
      ]
    },
    {
      "cell_type": "code",
      "execution_count": null,
      "id": "e9bcab54",
      "metadata": {
        "id": "e9bcab54"
      },
      "outputs": [],
      "source": [
        "#the unmamed column is not needed hence will drop it\n",
        "df.drop(\"Unnamed: 0\", axis=1, inplace=True)"
      ]
    },
    {
      "cell_type": "code",
      "execution_count": null,
      "id": "07049ee3",
      "metadata": {
        "id": "07049ee3",
        "outputId": "7ecd4149-c192-47f6-e760-bb5bcbcd0500"
      },
      "outputs": [
        {
          "data": {
            "text/html": [
              "<div>\n",
              "<style scoped>\n",
              "    .dataframe tbody tr th:only-of-type {\n",
              "        vertical-align: middle;\n",
              "    }\n",
              "\n",
              "    .dataframe tbody tr th {\n",
              "        vertical-align: top;\n",
              "    }\n",
              "\n",
              "    .dataframe thead th {\n",
              "        text-align: right;\n",
              "    }\n",
              "</style>\n",
              "<table border=\"1\" class=\"dataframe\">\n",
              "  <thead>\n",
              "    <tr style=\"text-align: right;\">\n",
              "      <th></th>\n",
              "      <th>Title</th>\n",
              "      <th>Release Date</th>\n",
              "      <th>Genre</th>\n",
              "      <th>Director</th>\n",
              "      <th>Budget</th>\n",
              "      <th>Revenue</th>\n",
              "      <th>Profit</th>\n",
              "      <th>Status</th>\n",
              "      <th>Release Year</th>\n",
              "    </tr>\n",
              "  </thead>\n",
              "  <tbody>\n",
              "    <tr>\n",
              "      <th>0</th>\n",
              "      <td>The Devil Inside</td>\n",
              "      <td>2012-01-06</td>\n",
              "      <td>Horror</td>\n",
              "      <td>William Brent Bell</td>\n",
              "      <td>1000000</td>\n",
              "      <td>101800000.0</td>\n",
              "      <td>100800000.0</td>\n",
              "      <td>gain</td>\n",
              "      <td>2012</td>\n",
              "    </tr>\n",
              "    <tr>\n",
              "      <th>1</th>\n",
              "      <td>Red Tails</td>\n",
              "      <td>2012-01-20</td>\n",
              "      <td>Drama</td>\n",
              "      <td>Anthony Hemingway</td>\n",
              "      <td>58000000</td>\n",
              "      <td>50400000.0</td>\n",
              "      <td>-7600000.0</td>\n",
              "      <td>loss</td>\n",
              "      <td>2012</td>\n",
              "    </tr>\n",
              "    <tr>\n",
              "      <th>2</th>\n",
              "      <td>Declaration of War</td>\n",
              "      <td>2012-01-27</td>\n",
              "      <td>Romance</td>\n",
              "      <td>Valérie Donzelli</td>\n",
              "      <td>1500000</td>\n",
              "      <td>6500000.0</td>\n",
              "      <td>5000000.0</td>\n",
              "      <td>gain</td>\n",
              "      <td>2012</td>\n",
              "    </tr>\n",
              "    <tr>\n",
              "      <th>3</th>\n",
              "      <td>Man on a Ledge</td>\n",
              "      <td>2012-01-27</td>\n",
              "      <td>Action</td>\n",
              "      <td>Asger Leth</td>\n",
              "      <td>42000000</td>\n",
              "      <td>46200000.0</td>\n",
              "      <td>4200000.0</td>\n",
              "      <td>gain</td>\n",
              "      <td>2012</td>\n",
              "    </tr>\n",
              "    <tr>\n",
              "      <th>4</th>\n",
              "      <td>One for the Money</td>\n",
              "      <td>2012-01-27</td>\n",
              "      <td>Crime</td>\n",
              "      <td>Julie Anne Robinson</td>\n",
              "      <td>40000000</td>\n",
              "      <td>36900000.0</td>\n",
              "      <td>-3100000.0</td>\n",
              "      <td>loss</td>\n",
              "      <td>2012</td>\n",
              "    </tr>\n",
              "  </tbody>\n",
              "</table>\n",
              "</div>"
            ],
            "text/plain": [
              "                Title Release Date    Genre             Director    Budget  \\\n",
              "0    The Devil Inside   2012-01-06   Horror   William Brent Bell   1000000   \n",
              "1           Red Tails   2012-01-20    Drama    Anthony Hemingway  58000000   \n",
              "2  Declaration of War   2012-01-27  Romance     Valérie Donzelli   1500000   \n",
              "3      Man on a Ledge   2012-01-27   Action           Asger Leth  42000000   \n",
              "4   One for the Money   2012-01-27    Crime  Julie Anne Robinson  40000000   \n",
              "\n",
              "       Revenue       Profit Status  Release Year  \n",
              "0  101800000.0  100800000.0   gain          2012  \n",
              "1   50400000.0   -7600000.0   loss          2012  \n",
              "2    6500000.0    5000000.0   gain          2012  \n",
              "3   46200000.0    4200000.0   gain          2012  \n",
              "4   36900000.0   -3100000.0   loss          2012  "
            ]
          },
          "execution_count": 14,
          "metadata": {},
          "output_type": "execute_result"
        }
      ],
      "source": [
        "df.head()"
      ]
    },
    {
      "cell_type": "code",
      "execution_count": null,
      "id": "3aabe711",
      "metadata": {
        "id": "3aabe711",
        "outputId": "b46a8e92-d590-4cea-f437-e3073861ca4b"
      },
      "outputs": [
        {
          "data": {
            "text/html": [
              "<div>\n",
              "<style scoped>\n",
              "    .dataframe tbody tr th:only-of-type {\n",
              "        vertical-align: middle;\n",
              "    }\n",
              "\n",
              "    .dataframe tbody tr th {\n",
              "        vertical-align: top;\n",
              "    }\n",
              "\n",
              "    .dataframe thead th {\n",
              "        text-align: right;\n",
              "    }\n",
              "</style>\n",
              "<table border=\"1\" class=\"dataframe\">\n",
              "  <thead>\n",
              "    <tr style=\"text-align: right;\">\n",
              "      <th></th>\n",
              "      <th>Title</th>\n",
              "      <th>Release Date</th>\n",
              "      <th>Genre</th>\n",
              "      <th>Director</th>\n",
              "      <th>Budget</th>\n",
              "      <th>Revenue</th>\n",
              "      <th>Profit</th>\n",
              "      <th>Status</th>\n",
              "      <th>Release Year</th>\n",
              "    </tr>\n",
              "  </thead>\n",
              "  <tbody>\n",
              "    <tr>\n",
              "      <th>503</th>\n",
              "      <td>Kubo and the Two Strings</td>\n",
              "      <td>2016-08-19</td>\n",
              "      <td>Fantasy</td>\n",
              "      <td>Travis Knight</td>\n",
              "      <td>60000000</td>\n",
              "      <td>27600000.0</td>\n",
              "      <td>-32400000.0</td>\n",
              "      <td>loss</td>\n",
              "      <td>2016</td>\n",
              "    </tr>\n",
              "    <tr>\n",
              "      <th>504</th>\n",
              "      <td>War Dogs</td>\n",
              "      <td>2016-08-19</td>\n",
              "      <td>Crime</td>\n",
              "      <td>Todd Phillips</td>\n",
              "      <td>40000000</td>\n",
              "      <td>42700000.0</td>\n",
              "      <td>2700000.0</td>\n",
              "      <td>gain</td>\n",
              "      <td>2016</td>\n",
              "    </tr>\n",
              "    <tr>\n",
              "      <th>505</th>\n",
              "      <td>Don't Breathe</td>\n",
              "      <td>2016-08-26</td>\n",
              "      <td>Thriller</td>\n",
              "      <td>Fede Alvarez</td>\n",
              "      <td>9900000</td>\n",
              "      <td>28300000.0</td>\n",
              "      <td>18400000.0</td>\n",
              "      <td>gain</td>\n",
              "      <td>2016</td>\n",
              "    </tr>\n",
              "    <tr>\n",
              "      <th>506</th>\n",
              "      <td>Hands of Stone</td>\n",
              "      <td>2016-08-26</td>\n",
              "      <td>Biography</td>\n",
              "      <td>Jonathan Jakubowicz</td>\n",
              "      <td>20000000</td>\n",
              "      <td>1700000.0</td>\n",
              "      <td>-18300000.0</td>\n",
              "      <td>loss</td>\n",
              "      <td>2016</td>\n",
              "    </tr>\n",
              "    <tr>\n",
              "      <th>507</th>\n",
              "      <td>Mechanic: Resurrection</td>\n",
              "      <td>2016-08-26</td>\n",
              "      <td>Action</td>\n",
              "      <td>Dennis Gansel</td>\n",
              "      <td>40000000</td>\n",
              "      <td>7500000.0</td>\n",
              "      <td>-32500000.0</td>\n",
              "      <td>loss</td>\n",
              "      <td>2016</td>\n",
              "    </tr>\n",
              "  </tbody>\n",
              "</table>\n",
              "</div>"
            ],
            "text/plain": [
              "                        Title Release Date      Genre             Director  \\\n",
              "503  Kubo and the Two Strings   2016-08-19    Fantasy        Travis Knight   \n",
              "504                  War Dogs   2016-08-19      Crime        Todd Phillips   \n",
              "505             Don't Breathe   2016-08-26   Thriller         Fede Alvarez   \n",
              "506            Hands of Stone   2016-08-26  Biography  Jonathan Jakubowicz   \n",
              "507    Mechanic: Resurrection   2016-08-26     Action        Dennis Gansel   \n",
              "\n",
              "       Budget     Revenue      Profit Status  Release Year  \n",
              "503  60000000  27600000.0 -32400000.0   loss          2016  \n",
              "504  40000000  42700000.0   2700000.0   gain          2016  \n",
              "505   9900000  28300000.0  18400000.0   gain          2016  \n",
              "506  20000000   1700000.0 -18300000.0   loss          2016  \n",
              "507  40000000   7500000.0 -32500000.0   loss          2016  "
            ]
          },
          "execution_count": 15,
          "metadata": {},
          "output_type": "execute_result"
        }
      ],
      "source": [
        "df.tail()"
      ]
    },
    {
      "cell_type": "markdown",
      "id": "6a3da000",
      "metadata": {
        "id": "6a3da000"
      },
      "source": [
        "we do a little data preprocessing by replacing any NaN value with a space to not get an error using a for loop"
      ]
    },
    {
      "cell_type": "code",
      "execution_count": null,
      "id": "5e232fe2",
      "metadata": {
        "id": "5e232fe2"
      },
      "outputs": [],
      "source": [
        "features = ['Title', 'Genre', 'Director']\n",
        "for feature in features:\n",
        "    df[feature] = df[feature].fillna('')"
      ]
    },
    {
      "cell_type": "markdown",
      "id": "274572e2",
      "metadata": {
        "id": "274572e2"
      },
      "source": [
        "we will combine all useful features by defining a function"
      ]
    },
    {
      "cell_type": "code",
      "execution_count": null,
      "id": "32c73cb3",
      "metadata": {
        "id": "32c73cb3",
        "outputId": "ec496f80-2952-4176-d1da-be0ced72dfd8"
      },
      "outputs": [
        {
          "data": {
            "text/plain": [
              "0          The Devil Inside Horror William Brent Bell\n",
              "1                   Red Tails Drama Anthony Hemingway\n",
              "2         Declaration of War Romance Valérie Donzelli\n",
              "3                    Man on a Ledge Action Asger Leth\n",
              "4         One for the Money Crime Julie Anne Robinson\n",
              "                            ...                      \n",
              "503    Kubo and the Two Strings Fantasy Travis Knight\n",
              "504                      War Dogs Crime Todd Phillips\n",
              "505               Don't Breathe Thriller Fede Alvarez\n",
              "506      Hands of Stone Biography Jonathan Jakubowicz\n",
              "507       Mechanic: Resurrection Action Dennis Gansel\n",
              "Name: combined_features, Length: 508, dtype: object"
            ]
          },
          "execution_count": 17,
          "metadata": {},
          "output_type": "execute_result"
        }
      ],
      "source": [
        "df['combined_features'] = df['Title']+\" \"+ df['Genre']+\" \"+ df['Director']\n",
        "df['combined_features']"
      ]
    },
    {
      "cell_type": "markdown",
      "id": "eb44a8c2",
      "metadata": {
        "id": "eb44a8c2"
      },
      "source": [
        "There is no need to drop all other columns so we check the dataframe"
      ]
    },
    {
      "cell_type": "code",
      "execution_count": null,
      "id": "99ef769b",
      "metadata": {
        "id": "99ef769b",
        "outputId": "1fe5c82c-f0d7-4dea-f7a3-a8af294da5ba"
      },
      "outputs": [
        {
          "data": {
            "text/html": [
              "<div>\n",
              "<style scoped>\n",
              "    .dataframe tbody tr th:only-of-type {\n",
              "        vertical-align: middle;\n",
              "    }\n",
              "\n",
              "    .dataframe tbody tr th {\n",
              "        vertical-align: top;\n",
              "    }\n",
              "\n",
              "    .dataframe thead th {\n",
              "        text-align: right;\n",
              "    }\n",
              "</style>\n",
              "<table border=\"1\" class=\"dataframe\">\n",
              "  <thead>\n",
              "    <tr style=\"text-align: right;\">\n",
              "      <th></th>\n",
              "      <th>Title</th>\n",
              "      <th>Release Date</th>\n",
              "      <th>Genre</th>\n",
              "      <th>Director</th>\n",
              "      <th>Budget</th>\n",
              "      <th>Revenue</th>\n",
              "      <th>Profit</th>\n",
              "      <th>Status</th>\n",
              "      <th>Release Year</th>\n",
              "      <th>combined_features</th>\n",
              "    </tr>\n",
              "  </thead>\n",
              "  <tbody>\n",
              "    <tr>\n",
              "      <th>503</th>\n",
              "      <td>Kubo and the Two Strings</td>\n",
              "      <td>2016-08-19</td>\n",
              "      <td>Fantasy</td>\n",
              "      <td>Travis Knight</td>\n",
              "      <td>60000000</td>\n",
              "      <td>27600000.0</td>\n",
              "      <td>-32400000.0</td>\n",
              "      <td>loss</td>\n",
              "      <td>2016</td>\n",
              "      <td>Kubo and the Two Strings Fantasy Travis Knight</td>\n",
              "    </tr>\n",
              "    <tr>\n",
              "      <th>504</th>\n",
              "      <td>War Dogs</td>\n",
              "      <td>2016-08-19</td>\n",
              "      <td>Crime</td>\n",
              "      <td>Todd Phillips</td>\n",
              "      <td>40000000</td>\n",
              "      <td>42700000.0</td>\n",
              "      <td>2700000.0</td>\n",
              "      <td>gain</td>\n",
              "      <td>2016</td>\n",
              "      <td>War Dogs Crime Todd Phillips</td>\n",
              "    </tr>\n",
              "    <tr>\n",
              "      <th>505</th>\n",
              "      <td>Don't Breathe</td>\n",
              "      <td>2016-08-26</td>\n",
              "      <td>Thriller</td>\n",
              "      <td>Fede Alvarez</td>\n",
              "      <td>9900000</td>\n",
              "      <td>28300000.0</td>\n",
              "      <td>18400000.0</td>\n",
              "      <td>gain</td>\n",
              "      <td>2016</td>\n",
              "      <td>Don't Breathe Thriller Fede Alvarez</td>\n",
              "    </tr>\n",
              "    <tr>\n",
              "      <th>506</th>\n",
              "      <td>Hands of Stone</td>\n",
              "      <td>2016-08-26</td>\n",
              "      <td>Biography</td>\n",
              "      <td>Jonathan Jakubowicz</td>\n",
              "      <td>20000000</td>\n",
              "      <td>1700000.0</td>\n",
              "      <td>-18300000.0</td>\n",
              "      <td>loss</td>\n",
              "      <td>2016</td>\n",
              "      <td>Hands of Stone Biography Jonathan Jakubowicz</td>\n",
              "    </tr>\n",
              "    <tr>\n",
              "      <th>507</th>\n",
              "      <td>Mechanic: Resurrection</td>\n",
              "      <td>2016-08-26</td>\n",
              "      <td>Action</td>\n",
              "      <td>Dennis Gansel</td>\n",
              "      <td>40000000</td>\n",
              "      <td>7500000.0</td>\n",
              "      <td>-32500000.0</td>\n",
              "      <td>loss</td>\n",
              "      <td>2016</td>\n",
              "      <td>Mechanic: Resurrection Action Dennis Gansel</td>\n",
              "    </tr>\n",
              "  </tbody>\n",
              "</table>\n",
              "</div>"
            ],
            "text/plain": [
              "                        Title Release Date      Genre             Director  \\\n",
              "503  Kubo and the Two Strings   2016-08-19    Fantasy        Travis Knight   \n",
              "504                  War Dogs   2016-08-19      Crime        Todd Phillips   \n",
              "505             Don't Breathe   2016-08-26   Thriller         Fede Alvarez   \n",
              "506            Hands of Stone   2016-08-26  Biography  Jonathan Jakubowicz   \n",
              "507    Mechanic: Resurrection   2016-08-26     Action        Dennis Gansel   \n",
              "\n",
              "       Budget     Revenue      Profit Status  Release Year  \\\n",
              "503  60000000  27600000.0 -32400000.0   loss          2016   \n",
              "504  40000000  42700000.0   2700000.0   gain          2016   \n",
              "505   9900000  28300000.0  18400000.0   gain          2016   \n",
              "506  20000000   1700000.0 -18300000.0   loss          2016   \n",
              "507  40000000   7500000.0 -32500000.0   loss          2016   \n",
              "\n",
              "                                  combined_features  \n",
              "503  Kubo and the Two Strings Fantasy Travis Knight  \n",
              "504                    War Dogs Crime Todd Phillips  \n",
              "505             Don't Breathe Thriller Fede Alvarez  \n",
              "506    Hands of Stone Biography Jonathan Jakubowicz  \n",
              "507     Mechanic: Resurrection Action Dennis Gansel  "
            ]
          },
          "execution_count": 18,
          "metadata": {},
          "output_type": "execute_result"
        }
      ],
      "source": [
        "df.tail()"
      ]
    },
    {
      "cell_type": "code",
      "execution_count": null,
      "id": "ad012e27",
      "metadata": {
        "id": "ad012e27"
      },
      "outputs": [],
      "source": [
        "#using feature extraction by importing sklearn feature extaction\n",
        "from sklearn.feature_extraction.text import CountVectorizer\n",
        "from sklearn.metrics.pairwise import cosine_similarity"
      ]
    },
    {
      "cell_type": "code",
      "execution_count": null,
      "id": "cfe72e13",
      "metadata": {
        "id": "cfe72e13",
        "outputId": "add8bbe5-6050-4662-ff61-414fb37ceb30"
      },
      "outputs": [
        {
          "name": "stdout",
          "output_type": "stream",
          "text": [
            "Count Matrix: [[0 0 0 ... 0 0 0]\n",
            " [0 0 0 ... 0 0 0]\n",
            " [0 0 0 ... 0 0 0]\n",
            " ...\n",
            " [0 0 0 ... 0 0 0]\n",
            " [0 0 0 ... 0 0 0]\n",
            " [0 0 0 ... 0 0 0]]\n"
          ]
        }
      ],
      "source": [
        "CV = CountVectorizer()\n",
        "count_matrix = CV.fit_transform(df['combined_features'])\n",
        "print(\"Count Matrix:\", count_matrix.toarray())"
      ]
    },
    {
      "cell_type": "code",
      "execution_count": null,
      "id": "c5013994",
      "metadata": {
        "id": "c5013994",
        "outputId": "3db5e3ab-a97a-492c-fb6b-de3b06a974c2"
      },
      "outputs": [
        {
          "data": {
            "text/plain": [
              "array([[1.        , 0.        , 0.        , ..., 0.        , 0.        ,\n",
              "        0.        ],\n",
              "       [0.        , 1.        , 0.        , ..., 0.        , 0.        ,\n",
              "        0.        ],\n",
              "       [0.        , 0.        , 1.        , ..., 0.        , 0.16666667,\n",
              "        0.        ],\n",
              "       ...,\n",
              "       [0.        , 0.        , 0.        , ..., 1.        , 0.        ,\n",
              "        0.        ],\n",
              "       [0.        , 0.        , 0.16666667, ..., 0.        , 1.        ,\n",
              "        0.        ],\n",
              "       [0.        , 0.        , 0.        , ..., 0.        , 0.        ,\n",
              "        1.        ]])"
            ]
          },
          "execution_count": 21,
          "metadata": {},
          "output_type": "execute_result"
        }
      ],
      "source": [
        "cosine_sim = cosine_similarity(count_matrix)\n",
        "cosine_sim"
      ]
    },
    {
      "cell_type": "markdown",
      "id": "4debd904",
      "metadata": {
        "id": "4debd904"
      },
      "source": [
        "The closer the value of the cosine similarity close to one, the mre similar  the movies are and can grouped based on the features."
      ]
    },
    {
      "cell_type": "code",
      "execution_count": null,
      "id": "4d97e3f9",
      "metadata": {
        "id": "4d97e3f9",
        "outputId": "0d326e44-c2ae-4352-fb9a-d051118ed89d"
      },
      "outputs": [
        {
          "data": {
            "text/plain": [
              "(508, 508)"
            ]
          },
          "execution_count": 22,
          "metadata": {},
          "output_type": "execute_result"
        }
      ],
      "source": [
        "cosine_sim.shape"
      ]
    },
    {
      "cell_type": "code",
      "execution_count": null,
      "id": "761fd2b2",
      "metadata": {
        "id": "761fd2b2"
      },
      "outputs": [],
      "source": [
        "indices = pd.Series(df.index, index=df['Title']).drop_duplicates()"
      ]
    },
    {
      "cell_type": "code",
      "execution_count": null,
      "id": "ed136d31",
      "metadata": {
        "id": "ed136d31"
      },
      "outputs": [],
      "source": [
        "def get_recommendations(Title, cosine_sim=cosine_sim):\n",
        "  idx = indices[Title]\n",
        "  sim_scores = list(enumerate(cosine_sim[idx]))\n",
        "  sim_scores = sorted(sim_scores, key=lambda x: x[1], reverse=True)\n",
        "  sim_scores = sim_scores[1:15]\n",
        "  movie_indices = [i[0] for i in sim_scores]\n",
        "  return df['Title'].iloc[movie_indices]"
      ]
    },
    {
      "cell_type": "code",
      "execution_count": null,
      "id": "89e8fd86",
      "metadata": {
        "id": "89e8fd86",
        "outputId": "dca52066-b5be-40e3-cb95-2e2ba4e72bb0"
      },
      "outputs": [
        {
          "data": {
            "text/plain": [
              "361                        Ant-Man\n",
              "153                   Man of Steel\n",
              "372        The Man from U.N.C.L.E.\n",
              "51          The Amazing Spider-Man\n",
              "124                  Dead Man Down\n",
              "90     The Man with the Iron Fists\n",
              "163                       R.I.P.D.\n",
              "27                         Lockout\n",
              "38                      Battleship\n",
              "76                          Looper\n",
              "79                         Taken 2\n",
              "134                       Oblivion\n",
              "164                          RED 2\n",
              "171                         2 Guns\n",
              "Name: Title, dtype: object"
            ]
          },
          "execution_count": 25,
          "metadata": {},
          "output_type": "execute_result"
        }
      ],
      "source": [
        "get_recommendations(\"Man on a Ledge\")"
      ]
    },
    {
      "cell_type": "code",
      "execution_count": null,
      "id": "6db3662b",
      "metadata": {
        "id": "6db3662b",
        "outputId": "207547f3-3bfa-4912-e658-62a3b71e06c7"
      },
      "outputs": [
        {
          "data": {
            "text/plain": [
              "133                Evil Dead\n",
              "497                    Nerve\n",
              "34                 The Raven\n",
              "84     Paranormal Activity 4\n",
              "165            The Conjuring\n",
              "275            The Equalizer\n",
              "333               The Gunman\n",
              "368                 The Gift\n",
              "433             The Revenant\n",
              "198        A Most Wanted Man\n",
              "202                 Non-Stop\n",
              "263         The November Man\n",
              "379          The Perfect Guy\n",
              "457      10 Cloverfield Lane\n",
              "Name: Title, dtype: object"
            ]
          },
          "execution_count": 26,
          "metadata": {},
          "output_type": "execute_result"
        }
      ],
      "source": [
        "get_recommendations(\"Don't Breathe\")"
      ]
    },
    {
      "cell_type": "markdown",
      "id": "912bdbdd",
      "metadata": {
        "id": "912bdbdd"
      },
      "source": [
        "Voila! my movie recommendation system. Thank you"
      ]
    }
  ],
  "metadata": {
    "kernelspec": {
      "display_name": "Python 3 (ipykernel)",
      "language": "python",
      "name": "python3"
    },
    "language_info": {
      "codemirror_mode": {
        "name": "ipython",
        "version": 3
      },
      "file_extension": ".py",
      "mimetype": "text/x-python",
      "name": "python",
      "nbconvert_exporter": "python",
      "pygments_lexer": "ipython3",
      "version": "3.9.12"
    },
    "colab": {
      "provenance": [],
      "include_colab_link": true
    }
  },
  "nbformat": 4,
  "nbformat_minor": 5
}