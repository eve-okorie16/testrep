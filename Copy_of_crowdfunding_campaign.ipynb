{
  "cells": [
    {
      "cell_type": "markdown",
      "metadata": {
        "id": "view-in-github",
        "colab_type": "text"
      },
      "source": [
        "<a href=\"https://colab.research.google.com/github/eve-okorie16/testrep/blob/main/Copy_of_crowdfunding_campaign.ipynb\" target=\"_parent\"><img src=\"https://colab.research.google.com/assets/colab-badge.svg\" alt=\"Open In Colab\"/></a>"
      ]
    },
    {
      "cell_type": "markdown",
      "id": "361dbc4f",
      "metadata": {
        "id": "361dbc4f"
      },
      "source": [
        "# To determine the market campaign for crowdfunding"
      ]
    },
    {
      "cell_type": "code",
      "execution_count": null,
      "id": "5b2fa7fc",
      "metadata": {
        "id": "5b2fa7fc",
        "outputId": "d8979012-de07-4d93-ebbb-2736331bc490"
      },
      "outputs": [
        {
          "name": "stdout",
          "output_type": "stream",
          "text": [
            "Requirement already satisfied: seaborn in c:\\users\\dr. okorie\\anaconda3\\lib\\site-packages (0.11.2)\n",
            "Requirement already satisfied: pandas>=0.23 in c:\\users\\dr. okorie\\anaconda3\\lib\\site-packages (from seaborn) (1.4.2)\n",
            "Requirement already satisfied: matplotlib>=2.2 in c:\\users\\dr. okorie\\anaconda3\\lib\\site-packages (from seaborn) (3.5.1)\n",
            "Requirement already satisfied: numpy>=1.15 in c:\\users\\dr. okorie\\anaconda3\\lib\\site-packages (from seaborn) (1.21.5)\n",
            "Requirement already satisfied: scipy>=1.0 in c:\\users\\dr. okorie\\anaconda3\\lib\\site-packages (from seaborn) (1.7.3)\n",
            "Requirement already satisfied: cycler>=0.10 in c:\\users\\dr. okorie\\anaconda3\\lib\\site-packages (from matplotlib>=2.2->seaborn) (0.11.0)\n",
            "Requirement already satisfied: packaging>=20.0 in c:\\users\\dr. okorie\\anaconda3\\lib\\site-packages (from matplotlib>=2.2->seaborn) (21.3)\n",
            "Requirement already satisfied: pyparsing>=2.2.1 in c:\\users\\dr. okorie\\anaconda3\\lib\\site-packages (from matplotlib>=2.2->seaborn) (3.0.4)\n",
            "Requirement already satisfied: kiwisolver>=1.0.1 in c:\\users\\dr. okorie\\anaconda3\\lib\\site-packages (from matplotlib>=2.2->seaborn) (1.3.2)\n",
            "Requirement already satisfied: pillow>=6.2.0 in c:\\users\\dr. okorie\\anaconda3\\lib\\site-packages (from matplotlib>=2.2->seaborn) (9.0.1)\n",
            "Requirement already satisfied: python-dateutil>=2.7 in c:\\users\\dr. okorie\\anaconda3\\lib\\site-packages (from matplotlib>=2.2->seaborn) (2.8.2)Note: you may need to restart the kernel to use updated packages.\n",
            "\n",
            "Requirement already satisfied: fonttools>=4.22.0 in c:\\users\\dr. okorie\\anaconda3\\lib\\site-packages (from matplotlib>=2.2->seaborn) (4.25.0)\n",
            "Requirement already satisfied: pytz>=2020.1 in c:\\users\\dr. okorie\\anaconda3\\lib\\site-packages (from pandas>=0.23->seaborn) (2021.3)\n",
            "Requirement already satisfied: six>=1.5 in c:\\users\\dr. okorie\\anaconda3\\lib\\site-packages (from python-dateutil>=2.7->matplotlib>=2.2->seaborn) (1.16.0)\n"
          ]
        }
      ],
      "source": [
        "pip install seaborn"
      ]
    },
    {
      "cell_type": "code",
      "execution_count": null,
      "id": "6023f428",
      "metadata": {
        "id": "6023f428"
      },
      "outputs": [],
      "source": [
        "import pandas as pd\n",
        "import matplotlib.pyplot as plt\n",
        "import seaborn as sns"
      ]
    },
    {
      "cell_type": "code",
      "execution_count": null,
      "id": "d3f4d17a",
      "metadata": {
        "id": "d3f4d17a",
        "outputId": "20a26fdc-6a15-4c33-f0bd-35053fca672d"
      },
      "outputs": [
        {
          "data": {
            "text/html": [
              "<div>\n",
              "<style scoped>\n",
              "    .dataframe tbody tr th:only-of-type {\n",
              "        vertical-align: middle;\n",
              "    }\n",
              "\n",
              "    .dataframe tbody tr th {\n",
              "        vertical-align: top;\n",
              "    }\n",
              "\n",
              "    .dataframe thead th {\n",
              "        text-align: right;\n",
              "    }\n",
              "</style>\n",
              "<table border=\"1\" class=\"dataframe\">\n",
              "  <thead>\n",
              "    <tr style=\"text-align: right;\">\n",
              "      <th></th>\n",
              "      <th>category</th>\n",
              "      <th>device</th>\n",
              "      <th>gender</th>\n",
              "      <th>age</th>\n",
              "      <th>amount</th>\n",
              "    </tr>\n",
              "  </thead>\n",
              "  <tbody>\n",
              "    <tr>\n",
              "      <th>0</th>\n",
              "      <td>Fashion</td>\n",
              "      <td>iOS</td>\n",
              "      <td>F</td>\n",
              "      <td>45-54</td>\n",
              "      <td>61</td>\n",
              "    </tr>\n",
              "    <tr>\n",
              "      <th>1</th>\n",
              "      <td>Sports</td>\n",
              "      <td>android</td>\n",
              "      <td>M</td>\n",
              "      <td>18-24</td>\n",
              "      <td>31</td>\n",
              "    </tr>\n",
              "    <tr>\n",
              "      <th>2</th>\n",
              "      <td>Technology</td>\n",
              "      <td>android</td>\n",
              "      <td>M</td>\n",
              "      <td>18-24</td>\n",
              "      <td>39</td>\n",
              "    </tr>\n",
              "    <tr>\n",
              "      <th>3</th>\n",
              "      <td>Technology</td>\n",
              "      <td>iOS</td>\n",
              "      <td>M</td>\n",
              "      <td>18-24</td>\n",
              "      <td>36</td>\n",
              "    </tr>\n",
              "    <tr>\n",
              "      <th>4</th>\n",
              "      <td>Sports</td>\n",
              "      <td>android</td>\n",
              "      <td>M</td>\n",
              "      <td>18-24</td>\n",
              "      <td>40</td>\n",
              "    </tr>\n",
              "    <tr>\n",
              "      <th>...</th>\n",
              "      <td>...</td>\n",
              "      <td>...</td>\n",
              "      <td>...</td>\n",
              "      <td>...</td>\n",
              "      <td>...</td>\n",
              "    </tr>\n",
              "    <tr>\n",
              "      <th>3995</th>\n",
              "      <td>Fashion</td>\n",
              "      <td>iOS</td>\n",
              "      <td>M</td>\n",
              "      <td>18-24</td>\n",
              "      <td>53</td>\n",
              "    </tr>\n",
              "    <tr>\n",
              "      <th>3996</th>\n",
              "      <td>Fashion</td>\n",
              "      <td>iOS</td>\n",
              "      <td>F</td>\n",
              "      <td>35-44</td>\n",
              "      <td>47</td>\n",
              "    </tr>\n",
              "    <tr>\n",
              "      <th>3997</th>\n",
              "      <td>Fashion</td>\n",
              "      <td>iOS</td>\n",
              "      <td>F</td>\n",
              "      <td>18-24</td>\n",
              "      <td>35</td>\n",
              "    </tr>\n",
              "    <tr>\n",
              "      <th>3998</th>\n",
              "      <td>Environment</td>\n",
              "      <td>android</td>\n",
              "      <td>F</td>\n",
              "      <td>18-24</td>\n",
              "      <td>39</td>\n",
              "    </tr>\n",
              "    <tr>\n",
              "      <th>3999</th>\n",
              "      <td>Games</td>\n",
              "      <td>android</td>\n",
              "      <td>F</td>\n",
              "      <td>18-24</td>\n",
              "      <td>38</td>\n",
              "    </tr>\n",
              "  </tbody>\n",
              "</table>\n",
              "<p>4000 rows × 5 columns</p>\n",
              "</div>"
            ],
            "text/plain": [
              "         category   device gender    age  amount\n",
              "0         Fashion      iOS      F  45-54      61\n",
              "1          Sports  android      M  18-24      31\n",
              "2      Technology  android      M  18-24      39\n",
              "3      Technology      iOS      M  18-24      36\n",
              "4          Sports  android      M  18-24      40\n",
              "...           ...      ...    ...    ...     ...\n",
              "3995      Fashion      iOS      M  18-24      53\n",
              "3996      Fashion      iOS      F  35-44      47\n",
              "3997      Fashion      iOS      F  18-24      35\n",
              "3998  Environment  android      F  18-24      39\n",
              "3999        Games  android      F  18-24      38\n",
              "\n",
              "[4000 rows x 5 columns]"
            ]
          },
          "execution_count": 5,
          "metadata": {},
          "output_type": "execute_result"
        }
      ],
      "source": [
        "#load the csv file as dataframe\n",
        "df = pd.read_csv(\"crowdfunding.csv\")\n",
        "df"
      ]
    },
    {
      "cell_type": "code",
      "execution_count": null,
      "id": "1932b0ae",
      "metadata": {
        "id": "1932b0ae",
        "outputId": "a2b5afc3-8fba-4216-a086-c9afa3516218"
      },
      "outputs": [
        {
          "data": {
            "text/html": [
              "<div>\n",
              "<style scoped>\n",
              "    .dataframe tbody tr th:only-of-type {\n",
              "        vertical-align: middle;\n",
              "    }\n",
              "\n",
              "    .dataframe tbody tr th {\n",
              "        vertical-align: top;\n",
              "    }\n",
              "\n",
              "    .dataframe thead th {\n",
              "        text-align: right;\n",
              "    }\n",
              "</style>\n",
              "<table border=\"1\" class=\"dataframe\">\n",
              "  <thead>\n",
              "    <tr style=\"text-align: right;\">\n",
              "      <th></th>\n",
              "      <th>category</th>\n",
              "      <th>device</th>\n",
              "      <th>gender</th>\n",
              "      <th>age</th>\n",
              "      <th>amount</th>\n",
              "    </tr>\n",
              "  </thead>\n",
              "  <tbody>\n",
              "    <tr>\n",
              "      <th>0</th>\n",
              "      <td>Fashion</td>\n",
              "      <td>iOS</td>\n",
              "      <td>F</td>\n",
              "      <td>45-54</td>\n",
              "      <td>61</td>\n",
              "    </tr>\n",
              "    <tr>\n",
              "      <th>1</th>\n",
              "      <td>Sports</td>\n",
              "      <td>android</td>\n",
              "      <td>M</td>\n",
              "      <td>18-24</td>\n",
              "      <td>31</td>\n",
              "    </tr>\n",
              "    <tr>\n",
              "      <th>2</th>\n",
              "      <td>Technology</td>\n",
              "      <td>android</td>\n",
              "      <td>M</td>\n",
              "      <td>18-24</td>\n",
              "      <td>39</td>\n",
              "    </tr>\n",
              "    <tr>\n",
              "      <th>3</th>\n",
              "      <td>Technology</td>\n",
              "      <td>iOS</td>\n",
              "      <td>M</td>\n",
              "      <td>18-24</td>\n",
              "      <td>36</td>\n",
              "    </tr>\n",
              "    <tr>\n",
              "      <th>4</th>\n",
              "      <td>Sports</td>\n",
              "      <td>android</td>\n",
              "      <td>M</td>\n",
              "      <td>18-24</td>\n",
              "      <td>40</td>\n",
              "    </tr>\n",
              "  </tbody>\n",
              "</table>\n",
              "</div>"
            ],
            "text/plain": [
              "     category   device gender    age  amount\n",
              "0     Fashion      iOS      F  45-54      61\n",
              "1      Sports  android      M  18-24      31\n",
              "2  Technology  android      M  18-24      39\n",
              "3  Technology      iOS      M  18-24      36\n",
              "4      Sports  android      M  18-24      40"
            ]
          },
          "execution_count": 6,
          "metadata": {},
          "output_type": "execute_result"
        }
      ],
      "source": [
        "df.head()"
      ]
    },
    {
      "cell_type": "code",
      "execution_count": null,
      "id": "f15694c6",
      "metadata": {
        "id": "f15694c6",
        "outputId": "13540d61-71f0-4a25-a0df-b250302c60b9"
      },
      "outputs": [
        {
          "name": "stdout",
          "output_type": "stream",
          "text": [
            "<class 'pandas.core.frame.DataFrame'>\n",
            "RangeIndex: 4000 entries, 0 to 3999\n",
            "Data columns (total 5 columns):\n",
            " #   Column    Non-Null Count  Dtype \n",
            "---  ------    --------------  ----- \n",
            " 0   category  4000 non-null   object\n",
            " 1   device    4000 non-null   object\n",
            " 2   gender    4000 non-null   object\n",
            " 3   age       4000 non-null   object\n",
            " 4   amount    4000 non-null   int64 \n",
            "dtypes: int64(1), object(4)\n",
            "memory usage: 156.4+ KB\n"
          ]
        }
      ],
      "source": [
        "df.info()"
      ]
    },
    {
      "cell_type": "code",
      "execution_count": null,
      "id": "39d92cc2",
      "metadata": {
        "id": "39d92cc2",
        "outputId": "96fa9fa2-bfe4-47ff-fed0-7b656b525177"
      },
      "outputs": [
        {
          "data": {
            "text/plain": [
              "category    0\n",
              "device      0\n",
              "gender      0\n",
              "age         0\n",
              "amount      0\n",
              "dtype: int64"
            ]
          },
          "execution_count": 5,
          "metadata": {},
          "output_type": "execute_result"
        }
      ],
      "source": [
        "#to crosscheck null values\n",
        "df.isnull().sum()"
      ]
    },
    {
      "cell_type": "code",
      "execution_count": null,
      "id": "8dd08513",
      "metadata": {
        "id": "8dd08513",
        "outputId": "7fbd0e45-5764-46cc-b37e-4995f0fbed2e"
      },
      "outputs": [
        {
          "data": {
            "text/plain": [
              "0       False\n",
              "1       False\n",
              "2       False\n",
              "3       False\n",
              "4       False\n",
              "        ...  \n",
              "3995     True\n",
              "3996    False\n",
              "3997     True\n",
              "3998     True\n",
              "3999     True\n",
              "Length: 4000, dtype: bool"
            ]
          },
          "execution_count": 15,
          "metadata": {},
          "output_type": "execute_result"
        }
      ],
      "source": [
        "#to check for duplicate values\n",
        "df.duplicated()\n",
        "#duplicated values if true is relevant so no drop duplicates"
      ]
    },
    {
      "cell_type": "code",
      "execution_count": null,
      "id": "f73d2b32",
      "metadata": {
        "id": "f73d2b32",
        "outputId": "20c4c459-4022-4d35-b8f1-5f68faedfd9c"
      },
      "outputs": [
        {
          "data": {
            "text/plain": [
              "Games          817\n",
              "Sports         807\n",
              "Technology     799\n",
              "Environment    795\n",
              "Fashion        782\n",
              "Name: category, dtype: int64"
            ]
          },
          "execution_count": 8,
          "metadata": {},
          "output_type": "execute_result"
        }
      ],
      "source": [
        "df['category'].value_counts()"
      ]
    },
    {
      "cell_type": "code",
      "execution_count": null,
      "id": "59d61574",
      "metadata": {
        "id": "59d61574",
        "outputId": "3400bea7-ad4f-4a3a-91e7-6654555b0314"
      },
      "outputs": [
        {
          "data": {
            "text/html": [
              "<div>\n",
              "<style scoped>\n",
              "    .dataframe tbody tr th:only-of-type {\n",
              "        vertical-align: middle;\n",
              "    }\n",
              "\n",
              "    .dataframe tbody tr th {\n",
              "        vertical-align: top;\n",
              "    }\n",
              "\n",
              "    .dataframe thead th {\n",
              "        text-align: right;\n",
              "    }\n",
              "</style>\n",
              "<table border=\"1\" class=\"dataframe\">\n",
              "  <thead>\n",
              "    <tr style=\"text-align: right;\">\n",
              "      <th></th>\n",
              "      <th>amount</th>\n",
              "    </tr>\n",
              "    <tr>\n",
              "      <th>category</th>\n",
              "      <th></th>\n",
              "    </tr>\n",
              "  </thead>\n",
              "  <tbody>\n",
              "    <tr>\n",
              "      <th>Environment</th>\n",
              "      <td>31869</td>\n",
              "    </tr>\n",
              "    <tr>\n",
              "      <th>Fashion</th>\n",
              "      <td>30025</td>\n",
              "    </tr>\n",
              "    <tr>\n",
              "      <th>Games</th>\n",
              "      <td>32764</td>\n",
              "    </tr>\n",
              "    <tr>\n",
              "      <th>Sports</th>\n",
              "      <td>31581</td>\n",
              "    </tr>\n",
              "    <tr>\n",
              "      <th>Technology</th>\n",
              "      <td>31093</td>\n",
              "    </tr>\n",
              "  </tbody>\n",
              "</table>\n",
              "</div>"
            ],
            "text/plain": [
              "             amount\n",
              "category           \n",
              "Environment   31869\n",
              "Fashion       30025\n",
              "Games         32764\n",
              "Sports        31581\n",
              "Technology    31093"
            ]
          },
          "execution_count": 34,
          "metadata": {},
          "output_type": "execute_result"
        }
      ],
      "source": [
        "# To show the top categories based on amount contributed\n",
        "df.groupby(['category']).sum('amount')"
      ]
    },
    {
      "cell_type": "code",
      "execution_count": null,
      "id": "29efd568",
      "metadata": {
        "id": "29efd568",
        "outputId": "b0c79dce-b8a2-45ce-bb8c-77d78d126b24"
      },
      "outputs": [
        {
          "data": {
            "text/html": [
              "<div>\n",
              "<style scoped>\n",
              "    .dataframe tbody tr th:only-of-type {\n",
              "        vertical-align: middle;\n",
              "    }\n",
              "\n",
              "    .dataframe tbody tr th {\n",
              "        vertical-align: top;\n",
              "    }\n",
              "\n",
              "    .dataframe thead th {\n",
              "        text-align: right;\n",
              "    }\n",
              "</style>\n",
              "<table border=\"1\" class=\"dataframe\">\n",
              "  <thead>\n",
              "    <tr style=\"text-align: right;\">\n",
              "      <th></th>\n",
              "      <th>amount</th>\n",
              "    </tr>\n",
              "  </thead>\n",
              "  <tbody>\n",
              "    <tr>\n",
              "      <th>count</th>\n",
              "      <td>4000.000000</td>\n",
              "    </tr>\n",
              "    <tr>\n",
              "      <th>mean</th>\n",
              "      <td>39.333000</td>\n",
              "    </tr>\n",
              "    <tr>\n",
              "      <th>std</th>\n",
              "      <td>14.914547</td>\n",
              "    </tr>\n",
              "    <tr>\n",
              "      <th>min</th>\n",
              "      <td>1.000000</td>\n",
              "    </tr>\n",
              "    <tr>\n",
              "      <th>25%</th>\n",
              "      <td>29.000000</td>\n",
              "    </tr>\n",
              "    <tr>\n",
              "      <th>50%</th>\n",
              "      <td>39.000000</td>\n",
              "    </tr>\n",
              "    <tr>\n",
              "      <th>75%</th>\n",
              "      <td>49.000000</td>\n",
              "    </tr>\n",
              "    <tr>\n",
              "      <th>max</th>\n",
              "      <td>101.000000</td>\n",
              "    </tr>\n",
              "  </tbody>\n",
              "</table>\n",
              "</div>"
            ],
            "text/plain": [
              "            amount\n",
              "count  4000.000000\n",
              "mean     39.333000\n",
              "std      14.914547\n",
              "min       1.000000\n",
              "25%      29.000000\n",
              "50%      39.000000\n",
              "75%      49.000000\n",
              "max     101.000000"
            ]
          },
          "execution_count": 11,
          "metadata": {},
          "output_type": "execute_result"
        }
      ],
      "source": [
        "#to understand this data more\n",
        "df.describe()"
      ]
    },
    {
      "cell_type": "code",
      "execution_count": null,
      "id": "91a9a40c",
      "metadata": {
        "id": "91a9a40c",
        "outputId": "b9b7bd22-4337-4015-cd50-1fba24a96b7f"
      },
      "outputs": [
        {
          "data": {
            "text/html": [
              "<div>\n",
              "<style scoped>\n",
              "    .dataframe tbody tr th:only-of-type {\n",
              "        vertical-align: middle;\n",
              "    }\n",
              "\n",
              "    .dataframe tbody tr th {\n",
              "        vertical-align: top;\n",
              "    }\n",
              "\n",
              "    .dataframe thead th {\n",
              "        text-align: right;\n",
              "    }\n",
              "</style>\n",
              "<table border=\"1\" class=\"dataframe\">\n",
              "  <thead>\n",
              "    <tr style=\"text-align: right;\">\n",
              "      <th></th>\n",
              "      <th>amount</th>\n",
              "    </tr>\n",
              "    <tr>\n",
              "      <th>device</th>\n",
              "      <th></th>\n",
              "    </tr>\n",
              "  </thead>\n",
              "  <tbody>\n",
              "    <tr>\n",
              "      <th>android</th>\n",
              "      <td>54901</td>\n",
              "    </tr>\n",
              "    <tr>\n",
              "      <th>iOS</th>\n",
              "      <td>102431</td>\n",
              "    </tr>\n",
              "  </tbody>\n",
              "</table>\n",
              "</div>"
            ],
            "text/plain": [
              "         amount\n",
              "device         \n",
              "android   54901\n",
              "iOS      102431"
            ]
          },
          "execution_count": 44,
          "metadata": {},
          "output_type": "execute_result"
        }
      ],
      "source": [
        "#to determine device with the highest contribution\n",
        "df.groupby(['device']).sum('amount')"
      ]
    },
    {
      "cell_type": "code",
      "execution_count": null,
      "id": "b322035e",
      "metadata": {
        "id": "b322035e",
        "outputId": "4005e0ef-452a-4b42-dde8-46f0b1ebdfe5"
      },
      "outputs": [
        {
          "data": {
            "text/plain": [
              "18-24    2040\n",
              "35-44     510\n",
              "55+       499\n",
              "45-54     488\n",
              "25-34     463\n",
              "Name: age, dtype: int64"
            ]
          },
          "execution_count": 16,
          "metadata": {},
          "output_type": "execute_result"
        }
      ],
      "source": [
        "# frequency of the age\n",
        "df['age'].value_counts()"
      ]
    },
    {
      "cell_type": "code",
      "execution_count": null,
      "id": "d820cd19",
      "metadata": {
        "id": "d820cd19",
        "outputId": "db087ab1-3618-4153-ffc6-d15eb272dc1c"
      },
      "outputs": [
        {
          "data": {
            "text/html": [
              "<div>\n",
              "<style scoped>\n",
              "    .dataframe tbody tr th:only-of-type {\n",
              "        vertical-align: middle;\n",
              "    }\n",
              "\n",
              "    .dataframe tbody tr th {\n",
              "        vertical-align: top;\n",
              "    }\n",
              "\n",
              "    .dataframe thead th {\n",
              "        text-align: right;\n",
              "    }\n",
              "</style>\n",
              "<table border=\"1\" class=\"dataframe\">\n",
              "  <thead>\n",
              "    <tr style=\"text-align: right;\">\n",
              "      <th></th>\n",
              "      <th>amount</th>\n",
              "    </tr>\n",
              "    <tr>\n",
              "      <th>age</th>\n",
              "      <th></th>\n",
              "    </tr>\n",
              "  </thead>\n",
              "  <tbody>\n",
              "    <tr>\n",
              "      <th>18-24</th>\n",
              "      <td>80138</td>\n",
              "    </tr>\n",
              "    <tr>\n",
              "      <th>25-34</th>\n",
              "      <td>18208</td>\n",
              "    </tr>\n",
              "    <tr>\n",
              "      <th>35-44</th>\n",
              "      <td>20218</td>\n",
              "    </tr>\n",
              "    <tr>\n",
              "      <th>45-54</th>\n",
              "      <td>19276</td>\n",
              "    </tr>\n",
              "    <tr>\n",
              "      <th>55+</th>\n",
              "      <td>19492</td>\n",
              "    </tr>\n",
              "  </tbody>\n",
              "</table>\n",
              "</div>"
            ],
            "text/plain": [
              "       amount\n",
              "age          \n",
              "18-24   80138\n",
              "25-34   18208\n",
              "35-44   20218\n",
              "45-54   19276\n",
              "55+     19492"
            ]
          },
          "execution_count": 69,
          "metadata": {},
          "output_type": "execute_result"
        }
      ],
      "source": [
        "#to determine highest age bracket that contribute most\n",
        "df.groupby(['age']).sum('amount')"
      ]
    },
    {
      "cell_type": "code",
      "execution_count": null,
      "id": "55878375",
      "metadata": {
        "id": "55878375",
        "outputId": "7ab01da1-19f2-45d4-e281-afeb6534e2d0"
      },
      "outputs": [
        {
          "data": {
            "text/plain": [
              "<AxesSubplot:xlabel='age', ylabel='count'>"
            ]
          },
          "execution_count": 32,
          "metadata": {},
          "output_type": "execute_result"
        },
        {
          "data": {
            "image/png": "[encoded data removed]",
            "text/plain": [
              "<Figure size 432x288 with 1 Axes>"
            ]
          },
          "metadata": {
            "needs_background": "light"
          },
          "output_type": "display_data"
        }
      ],
      "source": [
        "df = pd.read_csv(\"crowdfunding.csv\")\n",
        "sns.countplot(data=df, x=\"age\", hue=\"category\")"
      ]
    },
    {
      "cell_type": "code",
      "execution_count": null,
      "id": "56ffdda0",
      "metadata": {
        "id": "56ffdda0",
        "outputId": "b72b81cc-3497-4906-a03d-9835d27cb8de"
      },
      "outputs": [
        {
          "data": {
            "text/plain": [
              "amount  gender  category     device   age  \n",
              "1       F       Fashion      android  18-24    2\n",
              "                Sports       iOS      55+      2\n",
              "                Games        iOS      35-44    2\n",
              "                Environment  android  55+      1\n",
              "                Sports       iOS      25-34    1\n",
              "                                              ..\n",
              "86      F       Technology   iOS      18-24    1\n",
              "        M       Games        android  35-44    1\n",
              "89      F       Games        iOS      18-24    1\n",
              "90      U       Sports       iOS      55+      1\n",
              "101     F       Technology   iOS      35-44    1\n",
              "Length: 2666, dtype: int64"
            ]
          },
          "execution_count": 52,
          "metadata": {},
          "output_type": "execute_result"
        }
      ],
      "source": [
        " df.groupby([\"amount\", \"gender\"]).value_counts()"
      ]
    },
    {
      "cell_type": "code",
      "execution_count": null,
      "id": "d56ee14f",
      "metadata": {
        "scrolled": true,
        "id": "d56ee14f",
        "outputId": "cd680fae-83b2-4bbd-9b14-1574cb6b3d38"
      },
      "outputs": [
        {
          "data": {
            "image/png": "[encoded data removed]",
            "text/plain": [
              "<Figure size 1080x1080 with 25 Axes>"
            ]
          },
          "metadata": {
            "needs_background": "light"
          },
          "output_type": "display_data"
        }
      ],
      "source": [
        "g = sns.FacetGrid(df, row=\"category\", col=\"age\")\n",
        "g.map(sns.histplot, \"amount\")\n",
        "plt.show()"
      ]
    },
    {
      "cell_type": "code",
      "execution_count": null,
      "id": "120adc4d",
      "metadata": {
        "id": "120adc4d",
        "outputId": "e80824d9-654a-4133-db2c-c8776cefd1d3"
      },
      "outputs": [
        {
          "data": {
            "text/plain": [
              "<AxesSubplot:xlabel='age', ylabel='count'>"
            ]
          },
          "execution_count": 20,
          "metadata": {},
          "output_type": "execute_result"
        },
        {
          "data": {
            "image/png": "[encoded data removed]",
            "text/plain": [
              "<Figure size 432x288 with 1 Axes>"
            ]
          },
          "metadata": {
            "needs_background": "light"
          },
          "output_type": "display_data"
        }
      ],
      "source": [
        "sns.countplot(data=df, x=\"age\", hue=\"device\")"
      ]
    },
    {
      "cell_type": "code",
      "execution_count": null,
      "id": "803bc3ab",
      "metadata": {
        "id": "803bc3ab",
        "outputId": "7f47320b-4df0-47ed-8935-4a94489cc4ae"
      },
      "outputs": [
        {
          "data": {
            "text/plain": [
              "<AxesSubplot:xlabel='amount', ylabel='count'>"
            ]
          },
          "execution_count": 22,
          "metadata": {},
          "output_type": "execute_result"
        },
        {
          "data": {
            "image/png": "[encoded data removed]",
            "text/plain": [
              "<Figure size 432x288 with 1 Axes>"
            ]
          },
          "metadata": {
            "needs_background": "light"
          },
          "output_type": "display_data"
        }
      ],
      "source": [
        "sns.countplot(data=df, x=\"amount\", hue=\"device\")"
      ]
    },
    {
      "cell_type": "code",
      "execution_count": null,
      "id": "a0b1a681",
      "metadata": {
        "id": "a0b1a681",
        "outputId": "1191e2e5-20d9-48f5-9b26-e57fc9dca51c"
      },
      "outputs": [
        {
          "data": {
            "image/png": "[encoded data removed]",
            "text/plain": [
              "<Figure size 432x288 with 1 Axes>"
            ]
          },
          "metadata": {
            "needs_background": "light"
          },
          "output_type": "display_data"
        }
      ],
      "source": [
        "sum_amount_category = df.groupby(['category']).sum('amount')\n",
        "sum_amount_category.plot(kind=\"bar\")\n",
        "plt.xlabel(\"Category\", fontsize=10)\n",
        "plt.ylabel(\"Amount Sum\", fontsize=10)\n",
        "plt.title(\"Contributions by Category\", fontsize=13)\n",
        "plt.show()"
      ]
    },
    {
      "cell_type": "code",
      "execution_count": null,
      "id": "d3c0e01a",
      "metadata": {
        "id": "d3c0e01a",
        "outputId": "13196bfb-9c67-4a41-bf4b-3e12d14f148c"
      },
      "outputs": [
        {
          "data": {
            "image/png": "[encoded data removed]",
            "text/plain": [
              "<Figure size 432x288 with 1 Axes>"
            ]
          },
          "metadata": {
            "needs_background": "light"
          },
          "output_type": "display_data"
        }
      ],
      "source": [
        "sum_amount_device = df.groupby(['device']).sum('amount')\n",
        "sum_amount_device.plot(kind=\"bar\")\n",
        "plt.xlabel(\"Device\", fontsize=10)\n",
        "plt.ylabel(\"Amount Sum\", fontsize=10)\n",
        "plt.title(\"Contributions by Device\", fontsize=13)\n",
        "plt.show()"
      ]
    },
    {
      "cell_type": "code",
      "execution_count": null,
      "id": "ce37260a",
      "metadata": {
        "id": "ce37260a",
        "outputId": "59120f46-8cc6-41d8-d551-28c4d03fef9b"
      },
      "outputs": [
        {
          "data": {
            "image/png": "[encoded data removed]",
            "text/plain": [
              "<Figure size 432x288 with 1 Axes>"
            ]
          },
          "metadata": {
            "needs_background": "light"
          },
          "output_type": "display_data"
        }
      ],
      "source": [
        "sum_amount_age = df.groupby(['age']).sum('amount')\n",
        "sum_amount_age.plot(kind=\"bar\")\n",
        "plt.xlabel(\"Age\", fontsize=10)\n",
        "plt.ylabel(\"Amount Sum\", fontsize=10)\n",
        "plt.title(\"Contributions by Age\", fontsize=13)\n",
        "plt.show()"
      ]
    },
    {
      "cell_type": "code",
      "execution_count": null,
      "id": "32733cb0",
      "metadata": {
        "id": "32733cb0"
      },
      "outputs": [],
      "source": [
        "df1 = sum_amount_category\n",
        "df2 = sum_amount_device\n",
        "df3 = sum_amount_age"
      ]
    },
    {
      "cell_type": "code",
      "execution_count": null,
      "id": "0788a553",
      "metadata": {
        "id": "0788a553",
        "outputId": "38d85375-fc7c-4af3-9e9e-313667b6b6b2"
      },
      "outputs": [
        {
          "name": "stderr",
          "output_type": "stream",
          "text": [
            "C:\\Users\\Dr. Okorie\\AppData\\Local\\Temp\\ipykernel_3092\\1820169326.py:8: UserWarning: Tight layout not applied. tight_layout cannot make axes height small enough to accommodate all axes decorations.\n",
            "  fig.tight_layout(h_pad=60, w_pad=20)\n"
          ]
        },
        {
          "data": {
            "image/png": "[encoded data removed]",
            "text/plain": [
              "<Figure size 720x576 with 3 Axes>"
            ]
          },
          "metadata": {
            "needs_background": "light"
          },
          "output_type": "display_data"
        }
      ],
      "source": [
        "#using subplot to get a visualization \n",
        "#defining the subplot layout\n",
        "fig, axes = plt.subplots(nrows=3, ncols=1,sharey=True,figsize=(10,8))\n",
        "#add dataframes to subplots\n",
        "df1.plot.bar(ax=axes[0])\n",
        "df2.plot.bar(ax=axes[1])\n",
        "df3.plot.bar(ax=axes[2])\n",
        "fig.tight_layout(h_pad=60, w_pad=20)\n",
        "plt.show()"
      ]
    },
    {
      "cell_type": "markdown",
      "id": "40004c83",
      "metadata": {
        "id": "40004c83"
      },
      "source": [
        "From the datasets gotten, it can be seen that the amount of contributions was made more with people who are interested in games, environment and sports.\n",
        "Those who own an iphone made more contributions within that period and the people within the age range of 18 and 24 made the highest contributions across all categories.(Refer to the Facetgrid)\n",
        "So, it can be inferred from our results that those who fall within 18 and 24 years old were more likely going to contribute towards the  crowdfunding irrespective of their interests and device although those who  used IOS devices made more contributions than those who use android devices.\n",
        "Reasons can be that young people has more awareness and social influence since creators rely heavily on social media amongst young people. There is also the need for personal and societal validation. Some also actively contribute to get rewards."
      ]
    },
    {
      "cell_type": "markdown",
      "id": "ec75deda",
      "metadata": {
        "id": "ec75deda"
      },
      "source": [
        "CONCLUSION: We can recommend that the next crowdfunding campaign be targetted at young people between age 18-24 who has  interest in all categories especially, in games, environment or sports and who also uses IOS devices."
      ]
    }
  ],
  "metadata": {
    "kernelspec": {
      "display_name": "Python 3 (ipykernel)",
      "language": "python",
      "name": "python3"
    },
    "language_info": {
      "codemirror_mode": {
        "name": "ipython",
        "version": 3
      },
      "file_extension": ".py",
      "mimetype": "text/x-python",
      "name": "python",
      "nbconvert_exporter": "python",
      "pygments_lexer": "ipython3",
      "version": "3.9.12"
    },
    "colab": {
      "provenance": [],
      "include_colab_link": true
    }
  },
  "nbformat": 4,
  "nbformat_minor": 5
}